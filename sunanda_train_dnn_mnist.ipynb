{
 "cells": [
  {
   "cell_type": "markdown",
   "id": "MqIHW8x0DC9I",
   "metadata": {
    "id": "MqIHW8x0DC9I"
   },
   "source": [
    "## Run the following 2 cells **only once**. After that, comment it out"
   ]
  },
  {
   "cell_type": "code",
   "execution_count": null,
   "id": "nMrZvKT3COMc",
   "metadata": {
    "executionInfo": {
     "elapsed": 296,
     "status": "ok",
     "timestamp": 1612024788266,
     "user": {
      "displayName": "Sunanda Gamage",
      "photoUrl": "https://lh3.googleusercontent.com/a-/AOh14GjA6vvV6TXYh2GlnJ1zPljTwXNLxww5S_xAJMtlgQ=s64",
      "userId": "15754461861330059015"
     },
     "user_tz": 300
    },
    "id": "nMrZvKT3COMc"
   },
   "outputs": [],
   "source": [
    "# ------ Run this cell only once, and comment out ------\n",
    "# Mount your Google Drive to this environment\n",
    "# from google.colab import drive\n",
    "# drive.mount('/content/drive')"
   ]
  },
  {
   "cell_type": "code",
   "execution_count": null,
   "id": "1IvYthe7CgEX",
   "metadata": {
    "executionInfo": {
     "elapsed": 445,
     "status": "ok",
     "timestamp": 1612024788424,
     "user": {
      "displayName": "Sunanda Gamage",
      "photoUrl": "https://lh3.googleusercontent.com/a-/AOh14GjA6vvV6TXYh2GlnJ1zPljTwXNLxww5S_xAJMtlgQ=s64",
      "userId": "15754461861330059015"
     },
     "user_tz": 300
    },
    "id": "1IvYthe7CgEX"
   },
   "outputs": [],
   "source": [
    "# ------ Run this cell only once, and comment out ------\n",
    "# Install some missing packages\n",
    "# !pip install torchviz\n",
    "# !pip install pyyaml==5.1"
   ]
  },
  {
   "cell_type": "markdown",
   "id": "Th46IZ3mDZxL",
   "metadata": {
    "id": "Th46IZ3mDZxL"
   },
   "source": [
    "## Run the following cells with ***Runtime --> Restart and run all***\n",
    "This is required for 2 reasons.\n",
    "\n",
    "*   To make sure any changes you made to .py files are effective (need to import them from a fresh kernel)\n",
    "*   To make sure the printing works properly (to reset stdout, log file outputs etc)"
   ]
  },
  {
   "cell_type": "code",
   "execution_count": null,
   "id": "UlPFwT55CJ66",
   "metadata": {
    "id": "UlPFwT55CJ66"
   },
   "outputs": [],
   "source": [
    "# Change to directory on Google Drive where you have copied the code\n",
    "import os\n",
    "print(f'Current dir: {os.getcwd()}')\n",
    "os.chdir('/content/drive/MyDrive/IS_Research/dnn_optimizer')\n",
    "print(f'Changed dir to : {os.getcwd()}')"
   ]
  },
  {
   "cell_type": "code",
   "execution_count": null,
   "id": "innocent-handle",
   "metadata": {
    "id": "innocent-handle"
   },
   "outputs": [],
   "source": [
    "import train_dnn_mnist\n",
    "\n",
    "config_filname = \"sunanda_params.yaml\"\n",
    "\n",
    "train_dnn_mnist.run_experiment(config_filname)"
   ]
  }
 ],
 "metadata": {
  "colab": {
   "collapsed_sections": [],
   "name": "sunanda_train_dnn_mnist.ipynb",
   "provenance": [],
   "toc_visible": true
  },
  "kernelspec": {
   "display_name": "Python 3",
   "language": "python",
   "name": "python3"
  },
  "language_info": {
   "codemirror_mode": {
    "name": "ipython",
    "version": 3
   },
   "file_extension": ".py",
   "mimetype": "text/x-python",
   "name": "python",
   "nbconvert_exporter": "python",
   "pygments_lexer": "ipython3",
   "version": "3.7.6"
  }
 },
 "nbformat": 4,
 "nbformat_minor": 5
}
