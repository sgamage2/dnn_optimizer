{
 "cells": [
  {
   "cell_type": "code",
   "execution_count": 1,
   "id": "informative-elephant",
   "metadata": {},
   "outputs": [],
   "source": [
    "import torch\n",
    "# import matplotlib.pyplot as plt\n",
    "\n",
    "from utility import data_prep, evaluation, common\n",
    "from models.cnn_mnist import CNN_Network\n",
    "from models.ann_fixed import FixedFullyConnectedNetwork\n",
    "from models.ann import FullyConnectedNetwork\n",
    "from models.model_utility import train_network, test_network, visualize_network\n",
    "from pprint import pformat"
   ]
  },
  {
   "cell_type": "code",
   "execution_count": 6,
   "id": "fifteen-poker",
   "metadata": {},
   "outputs": [],
   "source": [
    "# Experiment parameters\n",
    "\n",
    "params = {}\n",
    "params['data_dir'] = 'data'\n",
    "params['device'] = 'cpu'    # cpu, cuda\n",
    "params['epochs'] = 3\n",
    "params['batch_size'] = 20 # 256\n",
    "params['optimizer'] = 'entropy_per_layer'     # sgd, sgd_momentum, adagrad, adam, entropy_per_layer, entropy_per_neuron ...\n",
    "params['learning_rate'] = 0.1\n",
    "\n",
    "params['ann_input_nodes'] = 28 * 28\n",
    "params['output_nodes'] = 10\n",
    "# params['ann_layer_units'] = [64, 32, 16]\n",
    "# params['ann_layer_units'] = [128, 64]\n",
    "params['ann_layer_units'] = [50, 50]\n",
    "params['ann_layer_activations'] = ['relu', 'relu', 'relu']\n",
    "# params['ann_layer_dropout_rates'] = [0.2, 0.2, 0.2]\n",
    "params['ann_layer_dropout_rates'] = [0.0, 0.0, 0.0]"
   ]
  },
  {
   "cell_type": "code",
   "execution_count": 7,
   "id": "racial-invalid",
   "metadata": {
    "scrolled": true
   },
   "outputs": [
    {
     "name": "stdout",
     "output_type": "stream",
     "text": [
      "Experiment parameters\n",
      "{'ann_input_nodes': 784,\n",
      " 'ann_layer_activations': ['relu', 'relu', 'relu'],\n",
      " 'ann_layer_dropout_rates': [0.0, 0.0, 0.0],\n",
      " 'ann_layer_units': [50, 50],\n",
      " 'batch_size': 20,\n",
      " 'data_dir': 'data',\n",
      " 'device': 'cpu',\n",
      " 'epochs': 3,\n",
      " 'learning_rate': 0.1,\n",
      " 'optimizer': 'entropy_per_layer',\n",
      " 'output_nodes': 10}\n",
      "Running on CPU\n"
     ]
    }
   ],
   "source": [
    "# Init\n",
    "print('Experiment parameters')\n",
    "print(pformat(params))\n",
    "\n",
    "assert params['device'] in ['cpu', 'cuda']\n",
    "if params['device'] == 'cuda':\n",
    "    print('Running on GPU (CUDA)')\n",
    "    assert torch.cuda.is_available()\n",
    "elif params['device'] == 'cpu':\n",
    "    print('Running on CPU')\n",
    "device = torch.device(params['device'])"
   ]
  },
  {
   "cell_type": "code",
   "execution_count": 4,
   "id": "mechanical-charger",
   "metadata": {},
   "outputs": [
    {
     "name": "stdout",
     "output_type": "stream",
     "text": [
      "Preprocessing MNIST training set\n",
      "Preprocessing MNIST test set\n"
     ]
    }
   ],
   "source": [
    "# Load data\n",
    "trainset, testset = data_prep.get_mnist_preprocessed(params['data_dir'], params['batch_size'])"
   ]
  },
  {
   "cell_type": "code",
   "execution_count": 8,
   "id": "hawaiian-arthritis",
   "metadata": {},
   "outputs": [
    {
     "name": "stdout",
     "output_type": "stream",
     "text": [
      "ModuleList(\n",
      "  (0): Linear(in_features=784, out_features=50, bias=True)\n",
      "  (1): ReLU()\n",
      "  (2): Dropout(p=0.0, inplace=False)\n",
      "  (3): Linear(in_features=50, out_features=50, bias=True)\n",
      "  (4): ReLU()\n",
      "  (5): Dropout(p=0.0, inplace=False)\n",
      "  (6): Linear(in_features=50, out_features=10, bias=True)\n",
      ")\n",
      "Number of model parameters =  42310\n",
      "Training neural network\n",
      "[epoch: 1/3]\ttime: 3.2\ttrain_loss: 0.4097\n",
      "[epoch: 2/3]\ttime: 3.1\ttrain_loss: 0.2052\n",
      "[epoch: 3/3]\ttime: 3.1\ttrain_loss: 0.1692\n",
      "Finished Training. Time taken: 9.33 sec, 0.16 min\n"
     ]
    }
   ],
   "source": [
    "# Create and train model\n",
    "# cnn_net = CNN_Network()\n",
    "# cnn_net = FixedFullyConnectedNetwork(input_size=28*28, output_size=10)\n",
    "cnn_net = FullyConnectedNetwork(params)\n",
    "visualize_network(cnn_net, trainset)\n",
    "\n",
    "history = train_network(cnn_net, trainset, params, device)"
   ]
  },
  {
   "cell_type": "code",
   "execution_count": 9,
   "id": "automotive-violin",
   "metadata": {},
   "outputs": [
    {
     "name": "stdout",
     "output_type": "stream",
     "text": [
      "Accuracy of the network on the 10000 test images: 95 %\n"
     ]
    }
   ],
   "source": [
    "# Test model\n",
    "test_network(cnn_net, testset, device)"
   ]
  },
  {
   "cell_type": "code",
   "execution_count": null,
   "id": "japanese-christopher",
   "metadata": {},
   "outputs": [
    {
     "name": "stdout",
     "output_type": "stream",
     "text": [
      "Plotting training history\n"
     ]
    }
   ],
   "source": [
    "# Visualization\n",
    "evaluation.plot_training_history(history)\n",
    "evaluation.plot_entropy_history(history)"
   ]
  },
  {
   "cell_type": "code",
   "execution_count": null,
   "id": "essential-cleaning",
   "metadata": {},
   "outputs": [],
   "source": []
  }
 ],
 "metadata": {
  "kernelspec": {
   "display_name": "Python 3",
   "language": "python",
   "name": "python3"
  },
  "language_info": {
   "codemirror_mode": {
    "name": "ipython",
    "version": 3
   },
   "file_extension": ".py",
   "mimetype": "text/x-python",
   "name": "python",
   "nbconvert_exporter": "python",
   "pygments_lexer": "ipython3",
   "version": "3.7.6"
  }
 },
 "nbformat": 4,
 "nbformat_minor": 5
}
